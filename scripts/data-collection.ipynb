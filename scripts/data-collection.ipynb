{
 "cells": [
  {
   "cell_type": "markdown",
   "metadata": {},
   "source": [
    "# zbMATH Full Experiment & Analysis\n",
    "### Orion Portelli\n",
    "\n",
    "This notebook explains and defines the process used to collect and analyse zbMATH record data in a reproduciple manner.\n",
    "___\n",
    "## Data Collection Process\n",
    "\n",
    "Data collection takes place in two phases:\n",
    "\n",
    "1. **ID Collection:** The client first collects a list of record ID's using the zbMATH client.\n",
    "2. **Record Scraping:** The client scrapes key details (including software) from each record in the ID list.\n",
    "3. **Data Cleaning:** The client cleans the dataset to fix erroneous dates and clean the plaintext language field.\n",
    "\n",
    "The first two stages are automated through the use of the `py_client.fullCollect` function.\n",
    "\n",
    "Cleaning can be then applied using the `py_client.cleanDataset` function.\n",
    "\n",
    "___\n",
    "\n",
    "## Phase 1 - Parameter Selection\n",
    "\n",
    "Collecting records is limited primarily by the speed of HTTP requests to zbMATH. As a result it is important to limit the number of records scraped as much as possible. This can be done during the ID collection phase via two means:\n",
    "\n",
    "1. **Mathematical Subject:** The MSC of the records being scraped. Different mathematical subjects rely on computational ability more than others, and by limiting ID search to individual subjects it is possible to capture these trends and their differences.\n",
    "2. **Time Interval:** The start and end date for the ID collection range. Records on zbMATH date back to even the 18th century, however the use of most modern software packages in mathematics was not truly mainstream until the late 2000s. Capturing time varying trends while increasing specificity is an important consideration.\n",
    "\n",
    "Here I selected 5 mathematical subjects of interest and then used swMATH to find the top subjects in certain large software packages to determine a smaller set of subjects that were sufficiently large and distinct. \n",
    "| MSC | Subject |\n",
    "| --- | --- |\n",
    "| 05 | Combinatorics |\n",
    "| 11 | Number Theory |\n",
    "| 20 | Group Theory & Generalisations |\n",
    "| 62 | Statistics |\n",
    "| 65 | Numerical Analysis |"
   ]
  },
  {
   "cell_type": "code",
   "execution_count": 3,
   "metadata": {},
   "outputs": [],
   "source": [
    "import src.api.api_client as api_client"
   ]
  },
  {
   "cell_type": "code",
   "execution_count": 4,
   "metadata": {},
   "outputs": [
    {
     "data": {
      "text/plain": [
       "{'00': 'General and overarching topics; collections',\n",
       " '01': 'History and biography',\n",
       " '03': 'Mathematical logic and foundations',\n",
       " '05': 'Combinatorics',\n",
       " '06': 'Order, lattices, ordered algebraic structures',\n",
       " '08': 'General algebraic systems',\n",
       " '11': 'Number theory',\n",
       " '12': 'Field theory and polynomials',\n",
       " '13': 'Commutative algebra',\n",
       " '14': 'Algebraic geometry',\n",
       " '15': 'Linear and multilinear algebra; matrix theory',\n",
       " '16': 'Associative rings and algebras',\n",
       " '17': 'Nonassociative rings and algebras',\n",
       " '18': 'Category theory; homological algebra',\n",
       " '19': '\\\\(K\\\\)-theory',\n",
       " '20': 'Group theory and generalizations',\n",
       " '22': 'Topological groups, Lie groups',\n",
       " '26': 'Real functions',\n",
       " '28': 'Measure and integration',\n",
       " '30': 'Functions of a complex variable',\n",
       " '31': 'Potential theory',\n",
       " '32': 'Several complex variables and analytic spaces',\n",
       " '33': 'Special functions',\n",
       " '34': 'Ordinary differential equations',\n",
       " '35': 'Partial differential equations',\n",
       " '37': 'Dynamical systems and ergodic theory',\n",
       " '39': 'Difference and functional equations',\n",
       " '40': 'Sequences, series, summability',\n",
       " '41': 'Approximations and expansions',\n",
       " '42': 'Harmonic analysis on Euclidean spaces',\n",
       " '43': 'Abstract harmonic analysis',\n",
       " '44': 'Integral transforms, operational calculus',\n",
       " '45': 'Integral equations',\n",
       " '46': 'Functional analysis',\n",
       " '47': 'Operator theory',\n",
       " '49': 'Calculus of variations and optimal control; optimization',\n",
       " '51': 'Geometry',\n",
       " '52': 'Convex and discrete geometry',\n",
       " '53': 'Differential geometry',\n",
       " '54': 'General topology',\n",
       " '55': 'Algebraic topology',\n",
       " '57': 'Manifolds and cell complexes',\n",
       " '58': 'Global analysis, analysis on manifolds',\n",
       " '60': 'Probability theory and stochastic processes',\n",
       " '62': 'Statistics',\n",
       " '65': 'Numerical analysis',\n",
       " '68': 'Computer science',\n",
       " '70': 'Mechanics of particles and systems',\n",
       " '74': 'Mechanics of deformable solids',\n",
       " '76': 'Fluid mechanics',\n",
       " '78': 'Optics, electromagnetic theory',\n",
       " '80': 'Classical thermodynamics, heat transfer',\n",
       " '81': 'Quantum theory',\n",
       " '82': 'Statistical mechanics, structure of matter',\n",
       " '83': 'Relativity and gravitational theory',\n",
       " '85': 'Astronomy and astrophysics',\n",
       " '86': 'Geophysics',\n",
       " '90': 'Operations research, mathematical programming',\n",
       " '91': 'Game theory, economics, finance, and other social and behavioral sciences',\n",
       " '92': 'Biology and other natural sciences',\n",
       " '93': 'Systems theory; control',\n",
       " '94': 'Information and communication theory, circuits',\n",
       " '97': 'Mathematics education',\n",
       " 'JFM': 'Jahrbuch für Mathematik'}"
      ]
     },
     "execution_count": 4,
     "metadata": {},
     "output_type": "execute_result"
    }
   ],
   "source": [
    "# View possible MSC codes\n",
    "api_client.getClasses()"
   ]
  },
  {
   "cell_type": "code",
   "execution_count": 2,
   "metadata": {},
   "outputs": [
    {
     "name": "stdout",
     "output_type": "stream",
     "text": [
      "{'05': 35450, '11': 21023, '20': 15243, '62': 36205, '65': 49759}\n",
      "Total Count: 157680\n"
     ]
    }
   ],
   "source": [
    "sets = {'05': 0, '11': 0, '20': 0, '62': 0, '65': 0}\n",
    "start = '2010'\n",
    "end = '2015'\n",
    "\n",
    "for s in sets:\n",
    "    sets[s] = api_client.getIDCount(s, start=start, end=end)\n",
    "\n",
    "print(sets)\n",
    "print('Total Count:', sum(sets.values()))"
   ]
  },
  {
   "cell_type": "markdown",
   "metadata": {},
   "source": [
    "From there, I determined a reasonably wide interval and used the API's count feature to determine if the number of records scraped was reasonable. The selected subjects follow:\n",
    "\n",
    "| MSC | Subject |\n",
    "| --- | --- |\n",
    "| 11 | Number Theory |\n",
    "| 20 | Group Theory & Generalisations |\n",
    "| 62 | Statistics |\n",
    "\n",
    "Again, these were chosen due to the distinction in the area of mathematics they covered, as well as the reasonably small count for sets 11 and 20.\n",
    "\n",
    "___\n",
    "## Phase 2 - Data Collection\n",
    "\n",
    "The code itself won't be run here due to its long runtime, it is better to use scripts or run in it directly from the command line. Despite this, it is shown below for the sake of reproducibility."
   ]
  },
  {
   "cell_type": "code",
   "execution_count": null,
   "metadata": {},
   "outputs": [],
   "source": []
  }
 ],
 "metadata": {
  "interpreter": {
   "hash": "6620ea2e3b86dabc506b314f0dcdfd7b93d357cb66c1a552cf54ed98ccf1faff"
  },
  "kernelspec": {
   "display_name": "Python 3.10.2 ('.venv': venv)",
   "language": "python",
   "name": "python3"
  },
  "language_info": {
   "codemirror_mode": {
    "name": "ipython",
    "version": 3
   },
   "file_extension": ".py",
   "mimetype": "text/x-python",
   "name": "python",
   "nbconvert_exporter": "python",
   "pygments_lexer": "ipython3",
   "version": "3.10.2"
  },
  "orig_nbformat": 4
 },
 "nbformat": 4,
 "nbformat_minor": 2
}
