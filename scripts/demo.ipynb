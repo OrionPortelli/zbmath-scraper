{
 "cells": [
  {
   "cell_type": "markdown",
   "metadata": {},
   "source": [
    "# Demo Prep File"
   ]
  },
  {
   "cell_type": "code",
   "execution_count": null,
   "metadata": {},
   "outputs": [],
   "source": [
    "from src.api.py_client import fullCollect, cleanDataset\n",
    "\n",
    "# Gets a dirty date\n",
    "fullCollect(idpath='data/clean_id.json', recordpath='data/clean_record.json', set='20', start='2013-11-28', end='2013-11-30')\n",
    "\n",
    "# Cleans a dirty date\n",
    "cleanDataset(inpath='data/clean_record.json', outpath='data/clean_record.json')"
   ]
  }
 ],
 "metadata": {
  "language_info": {
   "name": "python"
  },
  "orig_nbformat": 4
 },
 "nbformat": 4,
 "nbformat_minor": 2
}
