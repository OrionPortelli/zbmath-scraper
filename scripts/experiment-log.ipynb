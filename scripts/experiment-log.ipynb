{
 "cells": [
  {
   "cell_type": "markdown",
   "metadata": {},
   "source": [
    "# zbMATH Full Experiment & Analysis\n",
    "### Orion Portelli\n",
    "\n",
    "This notebook explains and defines the process used to collect and analyse zbMATH record data in a reproduciple manner.\n",
    "___\n",
    "## Data Collection Process\n",
    "\n",
    "Data collection takes place in two phases:\n",
    "\n",
    "1. **ID Collection:** The client first collects a list of record ID's using the zbMATH client.\n",
    "2. **Record Scraping:** The client scrapes key details (including software) from each record in the ID list.\n",
    "3. **Data Cleaning:** The client cleans the dataset to fix erroneous dates and clean the plaintext language field.\n",
    "\n",
    "The first two stages are automated through the use of the `py_client.fullCollect` function.\n",
    "\n",
    "Cleaning can be then applied using the `py_client.cleanDataset` function.\n",
    "\n",
    "___\n",
    "\n",
    "## Phase 1 - Parameter Selection\n",
    "\n",
    "Collecting records is limited primarily by the speed of HTTP requests to zbMATH. As a result it is important to limit the number of records scraped as much as possible. This can be done during the ID collection phase via two means:\n",
    "\n",
    "1. **Mathematical Subject:** The MSC of the records being scraped. Different mathematical subjects rely on computational ability more than others, and by limiting ID search to individual subjects it is possible to capture these trends and their differences.\n",
    "2. **Time Interval:** The start and end date for the ID collection range. Records on zbMATH date back to even the 18th century, however the use of most modern software packages in mathematics was not truly mainstream until the late 2000s. Capturing time varying trends while increasing specificity is an important consideration.\n",
    "\n",
    "Here I selected 5 mathematical subjects of interest and then used swMATH to find the top subjects in certain large software packages to determine a smaller set of subjects that were sufficiently large and distinct. \n",
    "| MSC | Subject |\n",
    "| --- | --- |\n",
    "| 05 | Combinatorics |\n",
    "| 11 | Number Theory |\n",
    "| 20 | Group Theory & Generalisations |\n",
    "| 62 | Statistics |\n",
    "| 65 | Numerical Analysis |"
   ]
  },
  {
   "cell_type": "code",
   "execution_count": 3,
   "metadata": {},
   "outputs": [],
   "source": [
    "import src.api.api_client as api_client\n",
    "import src.api.py_client as py_client"
   ]
  },
  {
   "cell_type": "code",
   "execution_count": 4,
   "metadata": {},
   "outputs": [
    {
     "data": {
      "text/plain": [
       "{'00': 'General and overarching topics; collections',\n",
       " '01': 'History and biography',\n",
       " '03': 'Mathematical logic and foundations',\n",
       " '05': 'Combinatorics',\n",
       " '06': 'Order, lattices, ordered algebraic structures',\n",
       " '08': 'General algebraic systems',\n",
       " '11': 'Number theory',\n",
       " '12': 'Field theory and polynomials',\n",
       " '13': 'Commutative algebra',\n",
       " '14': 'Algebraic geometry',\n",
       " '15': 'Linear and multilinear algebra; matrix theory',\n",
       " '16': 'Associative rings and algebras',\n",
       " '17': 'Nonassociative rings and algebras',\n",
       " '18': 'Category theory; homological algebra',\n",
       " '19': '\\\\(K\\\\)-theory',\n",
       " '20': 'Group theory and generalizations',\n",
       " '22': 'Topological groups, Lie groups',\n",
       " '26': 'Real functions',\n",
       " '28': 'Measure and integration',\n",
       " '30': 'Functions of a complex variable',\n",
       " '31': 'Potential theory',\n",
       " '32': 'Several complex variables and analytic spaces',\n",
       " '33': 'Special functions',\n",
       " '34': 'Ordinary differential equations',\n",
       " '35': 'Partial differential equations',\n",
       " '37': 'Dynamical systems and ergodic theory',\n",
       " '39': 'Difference and functional equations',\n",
       " '40': 'Sequences, series, summability',\n",
       " '41': 'Approximations and expansions',\n",
       " '42': 'Harmonic analysis on Euclidean spaces',\n",
       " '43': 'Abstract harmonic analysis',\n",
       " '44': 'Integral transforms, operational calculus',\n",
       " '45': 'Integral equations',\n",
       " '46': 'Functional analysis',\n",
       " '47': 'Operator theory',\n",
       " '49': 'Calculus of variations and optimal control; optimization',\n",
       " '51': 'Geometry',\n",
       " '52': 'Convex and discrete geometry',\n",
       " '53': 'Differential geometry',\n",
       " '54': 'General topology',\n",
       " '55': 'Algebraic topology',\n",
       " '57': 'Manifolds and cell complexes',\n",
       " '58': 'Global analysis, analysis on manifolds',\n",
       " '60': 'Probability theory and stochastic processes',\n",
       " '62': 'Statistics',\n",
       " '65': 'Numerical analysis',\n",
       " '68': 'Computer science',\n",
       " '70': 'Mechanics of particles and systems',\n",
       " '74': 'Mechanics of deformable solids',\n",
       " '76': 'Fluid mechanics',\n",
       " '78': 'Optics, electromagnetic theory',\n",
       " '80': 'Classical thermodynamics, heat transfer',\n",
       " '81': 'Quantum theory',\n",
       " '82': 'Statistical mechanics, structure of matter',\n",
       " '83': 'Relativity and gravitational theory',\n",
       " '85': 'Astronomy and astrophysics',\n",
       " '86': 'Geophysics',\n",
       " '90': 'Operations research, mathematical programming',\n",
       " '91': 'Game theory, economics, finance, and other social and behavioral sciences',\n",
       " '92': 'Biology and other natural sciences',\n",
       " '93': 'Systems theory; control',\n",
       " '94': 'Information and communication theory, circuits',\n",
       " '97': 'Mathematics education',\n",
       " 'JFM': 'Jahrbuch für Mathematik'}"
      ]
     },
     "execution_count": 4,
     "metadata": {},
     "output_type": "execute_result"
    }
   ],
   "source": [
    "# View possible MSC codes\n",
    "api_client.getClasses()"
   ]
  },
  {
   "cell_type": "code",
   "execution_count": 2,
   "metadata": {},
   "outputs": [
    {
     "name": "stdout",
     "output_type": "stream",
     "text": [
      "{'05': 35450, '11': 21023, '20': 15243, '62': 36205, '65': 49759}\n",
      "Total Count: 157680\n"
     ]
    }
   ],
   "source": [
    "sets = {'05': 0, '11': 0, '20': 0, '62': 0, '65': 0}\n",
    "start = '2010'\n",
    "end = '2015'\n",
    "\n",
    "for s in sets:\n",
    "    sets[s] = api_client.getIDCount(s, start=start, end=end)\n",
    "\n",
    "print(sets)\n",
    "print('Total Count:', sum(sets.values()))"
   ]
  },
  {
   "cell_type": "markdown",
   "metadata": {},
   "source": [
    "From there, I determined a reasonably wide interval and used the API's count feature to determine if the number of records scraped was reasonable. The selected subjects follow:\n",
    "\n",
    "| MSC | Subject |\n",
    "| --- | --- |\n",
    "| 11 | Number Theory |\n",
    "| 20 | Group Theory & Generalisations |\n",
    "| 62 | Statistics |\n",
    "\n",
    "Again, these were chosen due to the distinction in the area of mathematics they covered, as well as the reasonably small count for sets 11 and 20.\n",
    "\n",
    "___\n",
    "## Phase 2 - Data Collection\n",
    "\n",
    "The code itself won't be run here due to its long runtime, it is better to use scripts or run in it directly from the command line. Despite this, it is shown below for the sake of reproducibility. The list of sets is left blank to avoid being accidentally run and overwriting the existing datasets."
   ]
  },
  {
   "cell_type": "code",
   "execution_count": null,
   "metadata": {},
   "outputs": [],
   "source": [
    "sets = []\n",
    "\n",
    "# Collect records\n",
    "for s in sets:\n",
    "    py_client.fullCollect(idpath=f'../data/{s}_ids.json', recordpath=f'../data/{s}_records.json', set=s, start=start, end=end)\n",
    "    \n",
    "# Clean datasets\n",
    "for s in sets:\n",
    "    py_client.cleanDataset(inpath=f'../data/{s}_records.json', outpath=f'../data/{s}_clean.json', strict=False)"
   ]
  },
  {
   "cell_type": "markdown",
   "metadata": {},
   "source": [
    "___\n",
    "## Phase 3 - Analysis\n",
    "\n",
    "For this phase a simple analysis of the data is conducted. See the report for further explanation of the design of this visualisation.\n",
    "\n",
    "Note: rather than using pandas, the data was manually formatted for the exact visualisation required, however this is not necessary for other projects as pandas supplies support for reading from JSON files"
   ]
  },
  {
   "cell_type": "code",
   "execution_count": 49,
   "metadata": {},
   "outputs": [],
   "source": [
    "# Import Packages\n",
    "import numpy as np\n",
    "import matplotlib.pyplot as plt\n",
    "import json\n",
    "\n",
    "# Select figure size\n",
    "plt.rcParams['figure.figsize'] = [12, 8]"
   ]
  },
  {
   "cell_type": "code",
   "execution_count": 41,
   "metadata": {},
   "outputs": [],
   "source": [
    "# Get software count for each software in each set\n",
    "sets = ['11', '20', '62']\n",
    "\n",
    "soft_counts = {s: {} for s in sets}\n",
    "total_counts = {}\n",
    "\n",
    "for s in sets:\n",
    "    # Import data\n",
    "    with open(f'../data/{s}_clean.json') as j:\n",
    "        records = json.load(j)\n",
    "    total_counts[s] = records['count']\n",
    "    records = records['records']\n",
    "    \n",
    "    # For each record with software, increment value in dictionary\n",
    "    for r in records:\n",
    "        if r['software']:\n",
    "            for soft in r['software'].values():\n",
    "                if not soft in soft_counts[s]:\n",
    "                    soft_counts[s][soft] = 1\n",
    "                else:\n",
    "                    soft_counts[s][soft] += 1"
   ]
  },
  {
   "cell_type": "code",
   "execution_count": 42,
   "metadata": {},
   "outputs": [
    {
     "name": "stdout",
     "output_type": "stream",
     "text": [
      "{'11': {'OEIS': 483, 'Magma': 291, 'SageMath': 165, 'other': 1324, 'none': 18759}, '20': {'GAP': 483, 'Magma': 233, 'CHEVIE': 53, 'other': 763, 'none': 13711}, '62': {'R': 1374, 'fda (R)': 280, 'SAS': 250, 'other': 12282, 'none': 22019}}\n"
     ]
    }
   ],
   "source": [
    "# Retrieve summary counts for each set\n",
    "# (top 3 softwares, other, and none)\n",
    "top = 3\n",
    "summary_stats = {s: {} for s in sets}\n",
    "\n",
    "for s in summary_stats:\n",
    "    # Find top three software for the subject\n",
    "    keys = sorted(soft_counts[s], key=soft_counts[s].get, reverse=True)[:top]\n",
    "\n",
    "    # Find the count for each top software and store it\n",
    "    for k in keys:\n",
    "        summary_stats[s][k] = soft_counts[s][k]\n",
    "\n",
    "    # Find number of software not in the top 3\n",
    "    summary_stats[s]['other'] = sum(soft_counts[s].values()) - sum(summary_stats[s].values())\n",
    "\n",
    "    # Finally, number of records with no software\n",
    "    summary_stats[s]['none'] = total_counts[s] - sum(soft_counts[s].values())\n",
    "\n",
    "print(summary_stats)"
   ]
  },
  {
   "cell_type": "code",
   "execution_count": 43,
   "metadata": {},
   "outputs": [],
   "source": [
    "# Format sets for visualisation\n",
    "subjects = ['Number theory', 'Group Theory', 'Statistics']\n",
    "nones = [summary_stats[s]['none'] for s in sets]\n",
    "others = [summary_stats[s]['other'] for s in sets]\n",
    "majority = [(sum(summary_stats[s].values()) - nones[i] - others[i]) for i,s in enumerate(sets)]"
   ]
  },
  {
   "cell_type": "code",
   "execution_count": 50,
   "metadata": {},
   "outputs": [
    {
     "data": {
      "image/png": "[encoded data removed]",
      "text/plain": [
       "<Figure size 864x576 with 1 Axes>"
      ]
     },
     "metadata": {
      "needs_background": "light"
     },
     "output_type": "display_data"
    }
   ],
   "source": [
    "# Stacked bar chart of top software usage\n",
    "fig, ax = plt.subplots()\n",
    "width = 0.35 # Width of each bar\n",
    "\n",
    "ax.bar(subjects, majority, width, label='Top 3 Packages')\n",
    "ax.bar(subjects, others, width, bottom=majority, label='Other software')\n",
    "ax.bar(subjects, nones, width, bottom=others, label='No software')\n",
    "\n",
    "\n",
    "ax.set_ylabel('Number of Records')\n",
    "ax.set_xlabel('Subject')\n",
    "ax.legend()\n",
    "\n",
    "plt.show()"
   ]
  },
  {
   "cell_type": "code",
   "execution_count": 53,
   "metadata": {},
   "outputs": [
    {
     "name": "stdout",
     "output_type": "stream",
     "text": [
      "[[483, 483, 1374], [291, 233, 280], [165, 53, 250]]\n"
     ]
    }
   ],
   "source": [
    "# Get top packages in each subject (ordered by package rank in subject)\n",
    "top_packages = [[] for i in range(top)]\n",
    "for s in sets:\n",
    "    ordered = sorted(soft_counts[s], key=soft_counts[s].get, reverse=True)[:top]\n",
    "    for i in range(top):\n",
    "        top_packages[i].append(summary_stats[s][ordered[i]])\n",
    "\n",
    "print(top_packages)"
   ]
  },
  {
   "cell_type": "code",
   "execution_count": 59,
   "metadata": {},
   "outputs": [
    {
     "data": {
      "image/png": "[encoded data removed]",
      "text/plain": [
       "<Figure size 864x576 with 1 Axes>"
      ]
     },
     "metadata": {
      "needs_background": "light"
     },
     "output_type": "display_data"
    }
   ],
   "source": [
    "# Visualise grouped bar of top packages by subject\n",
    "x = np.arange(len(subjects))\n",
    "\n",
    "fig, ax = plt.subplots()\n",
    "top1 = ax.bar(x - width/2, top_packages[0], width/3, label='#1 Software')\n",
    "top2 = ax.bar(x - width/6, top_packages[1], width/3, label='#2 Software')\n",
    "top2 = ax.bar(x + width/6, top_packages[2], width/3, label='#3 Software')\n",
    "\n",
    "ax.set_ylabel('Number of Records')\n",
    "ax.set_xticks(x, subjects)\n",
    "ax.legend()\n",
    "\n",
    "plt.show()\n"
   ]
  },
  {
   "cell_type": "markdown",
   "metadata": {},
   "source": [
    "The above visualisation shows that R is almost three times as popular as most other top software packages in other subjects."
   ]
  },
  {
   "cell_type": "code",
   "execution_count": 58,
   "metadata": {},
   "outputs": [
    {
     "data": {
      "image/png": "[encoded data removed]",
      "text/plain": [
       "<Figure size 864x576 with 3 Axes>"
      ]
     },
     "metadata": {
      "needs_background": "light"
     },
     "output_type": "display_data"
    }
   ],
   "source": [
    "fig, axs = plt.subplots(1, len(sets))\n",
    "fig.suptitle('Top software packages by subject')\n",
    "\n",
    "for i,s in enumerate(sets):\n",
    "    summary_stats[s].pop('none', None)\n",
    "    labels = summary_stats[s].keys()\n",
    "    \n",
    "    axs[i].bar(labels, summary_stats[s].values())\n",
    "    axs[i].set_title(f'{subjects[i]}')\n",
    "\n",
    "plt.tight_layout()\n",
    "plt.show()"
   ]
  }
 ],
 "metadata": {
  "interpreter": {
   "hash": "6620ea2e3b86dabc506b314f0dcdfd7b93d357cb66c1a552cf54ed98ccf1faff"
  },
  "kernelspec": {
   "display_name": "Python 3.10.2 ('.venv': venv)",
   "language": "python",
   "name": "python3"
  },
  "language_info": {
   "codemirror_mode": {
    "name": "ipython",
    "version": 3
   },
   "file_extension": ".py",
   "mimetype": "text/x-python",
   "name": "python",
   "nbconvert_exporter": "python",
   "pygments_lexer": "ipython3",
   "version": "3.10.2"
  },
  "orig_nbformat": 4
 },
 "nbformat": 4,
 "nbformat_minor": 2
}
