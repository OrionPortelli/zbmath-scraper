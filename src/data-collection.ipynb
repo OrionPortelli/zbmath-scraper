{
 "cells": [
  {
   "cell_type": "markdown",
   "metadata": {},
   "source": [
    "# zbMATH Data Collection\n",
    "### Orion Portelli\n",
    "\n",
    "This notebook explains and defines the process used to collect zbMATH record data in a reproduciple manner.\n",
    "___\n",
    "## Data Collection Process\n",
    "\n",
    "Data collection takes place in two phases:\n",
    "\n",
    "1. **ID Collection:** The client first collects a list of record ID's using the zbMATH client.\n",
    "2. **Record Scraping:** The client scrapes key details (including software) from each record in the ID list.\n",
    "\n",
    "___\n",
    "\n",
    "## Phase 1 - ID Collection\n",
    "\n",
    "Collecting records is limited primarily by the speed of HTTP requests to zbMATH. As a result it is important to limit the number of records scraped as much as possible. This can be done during the ID collection phase via two means:\n",
    "\n",
    "1. **Mathematical Subject:** The MSC of the records being scraped. Different mathematical subjects rely on computational ability more than others, and by limiting ID search to individual subjects it is possible to capture these trends and their differences.\n",
    "2. **Time Interval:** The start and end date for the ID collection range. Records on zbMATH date back to even the 18th century, however the use of most modern software packages in mathematics was not truly mainstream until the late 2000s. Capturing time varying trends while increasing specificity is an important consideration.\n",
    "\n",
    "Here I selected 5 mathematical subjects of interest and used swMATH to find the top subjects in certain large software packages to determine if the fields selected were sufficiently large and distinct. From there, I determined a reasonably wide interval and used the API's count feature to determine if the number of records scraped was reasonable. The selected subjects follow:\n",
    "| MSC | Subject |\n",
    "| --- | --- |\n",
    "| 05 | Combinatorics |\n",
    "| 11 | Number Theory |\n",
    "| 20 | Group Theory & Generalisations |\n",
    "| 62 | Statistics |\n",
    "| 65 | Numerical Analysis |\n",
    "\n",
    "As for the selected time interval, we aim for at least a 7 year interval with ~50,000 entries maximum per subject. This would give 250,000 entries and take roughly 24 hours to scrape"
   ]
  },
  {
   "cell_type": "code",
   "execution_count": 3,
   "metadata": {},
   "outputs": [
    {
     "name": "stdout",
     "output_type": "stream",
     "text": [
      "{'05': 35450, '11': 21022, '20': 15243, '62': 36205, '65': 49760}\n",
      "Total Count: 157680\n"
     ]
    }
   ],
   "source": [
    "import api_client\n",
    "\n",
    "sets = {'05': 0, '11': 0, '20': 0, '62': 0, '65': 0}\n",
    "start = '2010'\n",
    "end = '2015'\n",
    "\n",
    "for s in sets:\n",
    "    sets[s] = api_client.getIDCount(s, start=start, end=end)\n",
    "\n",
    "print(sets)\n",
    "print('Total Count:', sum(sets.values()))"
   ]
  },
  {
   "cell_type": "markdown",
   "metadata": {},
   "source": [
    "Based on this experimentation, we can see that 2010 to 2017 is likely a reasonable timeframe for this experiment. The total record count is around 228k for this window and most software was at least semi-established at this time."
   ]
  },
  {
   "cell_type": "markdown",
   "metadata": {},
   "source": [
    "## NOTES ON COLLECTION OF DATA FOR GROUP 20\n",
    "\n",
    "| Event | Time |\n",
    "| --- | --- |\n",
    "| Started Collection | 15:05 |\n",
    "| Limit Reached | 15:20 |\n",
    "| Latest Request | 15:39 |\n",
    "| Limit Removed |  |"
   ]
  },
  {
   "cell_type": "markdown",
   "metadata": {},
   "source": []
  }
 ],
 "metadata": {
  "interpreter": {
   "hash": "6620ea2e3b86dabc506b314f0dcdfd7b93d357cb66c1a552cf54ed98ccf1faff"
  },
  "kernelspec": {
   "display_name": "Python 3.10.2 ('.venv': venv)",
   "language": "python",
   "name": "python3"
  },
  "language_info": {
   "codemirror_mode": {
    "name": "ipython",
    "version": 3
   },
   "file_extension": ".py",
   "mimetype": "text/x-python",
   "name": "python",
   "nbconvert_exporter": "python",
   "pygments_lexer": "ipython3",
   "version": "3.10.2"
  },
  "orig_nbformat": 4
 },
 "nbformat": 4,
 "nbformat_minor": 2
}
